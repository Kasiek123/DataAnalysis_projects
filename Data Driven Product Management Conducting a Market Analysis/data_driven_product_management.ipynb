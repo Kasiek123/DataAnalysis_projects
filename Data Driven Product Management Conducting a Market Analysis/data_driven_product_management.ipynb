{
 "cells": [
  {
   "cell_type": "markdown",
   "id": "ead7eab1-5522-4f2d-a152-e0e5d5646f1a",
   "metadata": {},
   "source": [
    "![Workout image](gym.png)\n",
    "\n",
    "You are a product manager for a fitness studio based in Singapore and are interested in understanding the types of digital products you should offer. You plan to conduct a market analysis in Python to understand how to place your digital fitness products in the regional market. A market analysis will allow you to identify strengths of your competitors, gauge demand, and create unique new digital products and services for potential users.\n",
    "\n",
    "You are provided with a number of CSV files in the Files-\"data\" folder, which offer international data on Google Trends and YouTube keyword searches related to fitness and related products. Two helper functions have also been provided, `read_file` and `read_geo`, to help you process and visualize these CSV files for further analysis.\n",
    "\n",
    "You'll use `pandas` methods to explore this data and drive your product management insights. \n",
    "\n",
    "You can continue beyond the bounds of this project and also investigate in-person classes, local gyms, and online personal instructors!"
   ]
  },
  {
   "cell_type": "code",
   "execution_count": null,
   "id": "c8e70ead-3abc-4d24-b33f-e4b6fd03388c",
   "metadata": {
    "executionCancelledAt": null,
    "executionTime": 16,
    "lastExecutedAt": 1710667647406,
    "lastScheduledRunId": null,
    "lastSuccessfullyExecutedCode": "# STARTER CODE - PLEASE DO NOT EDIT ANY CODE IN THIS CELL\n\nimport pandas as pd\nimport seaborn as sns\nimport matplotlib.pyplot as plt\nsns.set(style='white', palette='Pastel2')\nimport os\n\ndef read_file(filepath, plot = True):\n    \"\"\"\n    Read a CSV file from a given filepath, convert it into a pandas DataFrame,\n    and return a processed DataFrame with three columns: 'week', 'region', and 'interest'. Generate a line plot using Seaborn to visualize the data. This corresponds to the first graphic (time series) returned by trends.google.com. \n    \"\"\"\n    file = pd.read_csv(filepath, header=1)\n    df = file.set_index('Week').stack().reset_index()\n    df.columns = ['week','region','interest']\n    df['week'] = pd.to_datetime(df['week'])\n    plt.figure(figsize=(8,3))\n    df = df[df['interest']!=\"<1\"]\n    df['interest'] = df['interest'].astype(float)\n\n    if plot:\n        sns.lineplot(data = df, x= 'week', y= 'interest',hue='region')\n    return df\n\ndef read_geo(filepath, multi=False):\n    \"\"\"\n    Read a CSV file from a given filepath, convert it into a pandas DataFrame,\n    and return a processed DataFrame with two columns: 'country' and 'interest'. Generate a bar plot using Seaborn to visualize the data. This corresponds to the second graphic returned by trends.google.com. Use multi=False if only one keyword is being analyzed, and multi=True if more than one keyword is being analyzed.\n    \"\"\"\n    file = pd.read_csv(filepath, header=1)\n\n    if not multi:\n        file.columns = ['country', 'interest']\n        plt.figure(figsize=(8,4))\n        sns.barplot(data = file.dropna().iloc[:25,:], y = 'country', x='interest')\n\n    if multi:\n        plt.figure(figsize=(3,8))\n        file = file.set_index('Country').stack().reset_index()\n        file.columns = ['country','category','interest']\n        file['interest'] = pd.to_numeric(file['interest'].apply(lambda x: x[:-1]))\n        sns.barplot(data=file.dropna(), y = 'country', x='interest', hue='category')\n\n    file = file.sort_values(ascending=False,by='interest')\n    return file"
   },
   "outputs": [],
   "source": [
    "# STARTER CODE - PLEASE DO NOT EDIT ANY CODE IN THIS CELL\n",
    "\n",
    "import pandas as pd\n",
    "import seaborn as sns\n",
    "import matplotlib.pyplot as plt\n",
    "sns.set(style='white', palette='Pastel2')\n",
    "import os\n",
    "\n",
    "def read_file(filepath, plot = True):\n",
    "    \"\"\"\n",
    "    Read a CSV file from a given filepath, convert it into a pandas DataFrame,\n",
    "    and return a processed DataFrame with three columns: 'week', 'region', and 'interest'. Generate a line plot using Seaborn to visualize the data. This corresponds to the first graphic (time series) returned by trends.google.com. \n",
    "    \"\"\"\n",
    "    file = pd.read_csv(filepath, header=1)\n",
    "    df = file.set_index('Week').stack().reset_index()\n",
    "    df.columns = ['week','region','interest']\n",
    "    df['week'] = pd.to_datetime(df['week'])\n",
    "    plt.figure(figsize=(8,3))\n",
    "    df = df[df['interest']!=\"<1\"]\n",
    "    df['interest'] = df['interest'].astype(float)\n",
    "\n",
    "    if plot:\n",
    "        sns.lineplot(data = df, x= 'week', y= 'interest',hue='region')\n",
    "    return df\n",
    "\n",
    "def read_geo(filepath, multi=False):\n",
    "    \"\"\"\n",
    "    Read a CSV file from a given filepath, convert it into a pandas DataFrame,\n",
    "    and return a processed DataFrame with two columns: 'country' and 'interest'. Generate a bar plot using Seaborn to visualize the data. This corresponds to the second graphic returned by trends.google.com. Use multi=False if only one keyword is being analyzed, and multi=True if more than one keyword is being analyzed.\n",
    "    \"\"\"\n",
    "    file = pd.read_csv(filepath, header=1)\n",
    "\n",
    "    if not multi:\n",
    "        file.columns = ['country', 'interest']\n",
    "        plt.figure(figsize=(8,4))\n",
    "        sns.barplot(data = file.dropna().iloc[:25,:], y = 'country', x='interest')\n",
    "\n",
    "    if multi:\n",
    "        plt.figure(figsize=(3,8))\n",
    "        file = file.set_index('Country').stack().reset_index()\n",
    "        file.columns = ['country','category','interest']\n",
    "        file['interest'] = pd.to_numeric(file['interest'].apply(lambda x: x[:-1]))\n",
    "        sns.barplot(data=file.dropna(), y = 'country', x='interest', hue='category')\n",
    "\n",
    "    file = file.sort_values(ascending=False,by='interest')\n",
    "    return file"
   ]
  },
  {
   "cell_type": "markdown",
   "id": "96349ed7-6a68-4f5d-94c6-dc3a599b872b",
   "metadata": {},
   "source": [
    "# 1. Load data on global interest in fitness"
   ]
  },
  {
   "cell_type": "code",
   "execution_count": null,
   "id": "7e76ebe9-c246-4321-9aae-30fb0fb8ca61",
   "metadata": {
    "executionCancelledAt": null,
    "executionTime": 301,
    "lastExecutedAt": 1710667647707,
    "lastScheduledRunId": null,
    "lastSuccessfullyExecutedCode": "# Start your coding here ....\n# Read 'workout.csv' file\nworkout = read_file(\"data/workout.csv\")\nworkout.head(50)",
    "outputsMetadata": {
     "0": {
      "height": 323,
      "type": "dataFrame"
     }
    }
   },
   "outputs": [],
   "source": [
    "# Start your coding here ....\n",
    "# Read 'workout.csv' file\n",
    "workout = read_file(\"data/workout.csv\")\n",
    "workout.head(10)"
   ]
  },
  {
   "cell_type": "code",
   "execution_count": null,
   "id": "6eaed45c-b413-4a22-b947-9df6ac171252",
   "metadata": {
    "executionCancelledAt": null,
    "executionTime": 52,
    "lastExecutedAt": 1710667647759,
    "lastScheduledRunId": null,
    "lastSuccessfullyExecutedCode": "print(f\"Name of columns in the workout data:\\n{workout.columns}\")\nprint(f\"\\nColumn types in the workout data:\\n{workout.dtypes}\")",
    "outputsMetadata": {
     "0": {
      "height": 177,
      "type": "stream"
     }
    }
   },
   "outputs": [],
   "source": [
    "print(f\"Name of columns in the workout data:\\n{workout.columns}\")\n",
    "print(f\"\\nColumn types in the workout data:\\n{workout.dtypes}\")"
   ]
  },
  {
   "cell_type": "markdown",
   "id": "24a25daf-11b3-4db2-921d-0f0fbe955f6b",
   "metadata": {},
   "source": [
    "# 2. Assess global interest in fitness"
   ]
  },
  {
   "cell_type": "code",
   "execution_count": null,
   "id": "581fa36c-0699-4b17-b1b6-99b4dae09d07",
   "metadata": {
    "executionCancelledAt": null,
    "executionTime": 51,
    "lastExecutedAt": 1710667647810,
    "lastScheduledRunId": null,
    "lastSuccessfullyExecutedCode": "workout_by_month = workout.set_index('week').resample('MS').mean()\nmonth_high = workout_by_month[workout_by_month['interest']==workout_by_month['interest'].max()]\nmonth_str = str(month_high.index[0].date())",
    "outputsMetadata": {
     "0": {
      "height": 317,
      "type": "stream"
     }
    }
   },
   "outputs": [],
   "source": [
    "# Exclude the 'region' column and then perform resampling\n",
    "workout_numeric = workout.drop(columns=['region'])\n",
    "\n",
    "# Set the index of the DataFrame to the 'week' column and resample by month, taking the mean\n",
    "workout_by_month = workout_numeric.set_index('week').resample('MS').mean()\n",
    "\n",
    "# Find the month with the highest mean 'interest' value\n",
    "month_high = workout_by_month[workout_by_month['interest'] == workout_by_month['interest'].max()]\n",
    "\n",
    "# Convert the index of the resulting DataFrame to a string representing the date of the highest interest month\n",
    "month_str = str(month_high.index[0].date())"
   ]
  },
  {
   "cell_type": "code",
   "execution_count": null,
   "id": "fa10ccee-786b-4d9b-b713-86bd0792052e",
   "metadata": {
    "executionCancelledAt": null,
    "executionTime": 60,
    "lastExecutedAt": 1710667647871,
    "lastScheduledRunId": null,
    "lastSuccessfullyExecutedCode": "workout_by_month.head(50)",
    "outputsMetadata": {
     "0": {
      "height": 323,
      "type": "dataFrame"
     }
    }
   },
   "outputs": [],
   "source": [
    "workout_by_month.head(10)"
   ]
  },
  {
   "cell_type": "code",
   "execution_count": null,
   "id": "f3fcde7c-175b-46f2-aa99-ff86839c99d7",
   "metadata": {
    "executionCancelledAt": null,
    "executionTime": 53,
    "lastExecutedAt": 1710667647924,
    "lastScheduledRunId": null,
    "lastSuccessfullyExecutedCode": "print(month_high)\nprint(f\"\\nThe month with the highest interest is: {month_str}\")",
    "outputsMetadata": {
     "0": {
      "height": 117,
      "type": "stream"
     }
    }
   },
   "outputs": [],
   "source": [
    "print(month_high)\n",
    "print(f\"\\nThe month with the highest interest is: {month_str}\")"
   ]
  },
  {
   "cell_type": "markdown",
   "id": "c2db061c-2aef-4255-b93e-ce26abfa48e8",
   "metadata": {},
   "source": [
    "# 3. Compare interest in home workouts, gym workouts and home gyms"
   ]
  },
  {
   "cell_type": "code",
   "execution_count": null,
   "id": "4131437c-63c0-4926-86d9-915e1bf756af",
   "metadata": {
    "executionCancelledAt": null,
    "executionTime": 323,
    "lastExecutedAt": 1710667648247,
    "lastScheduledRunId": null,
    "lastSuccessfullyExecutedCode": "# Read 'three_keywords.csv' file\nkeywords = read_file(\"data/three_keywords.csv\")\nkeywords.head(50)",
    "outputsMetadata": {
     "0": {
      "height": 323,
      "type": "dataFrame"
     }
    }
   },
   "outputs": [],
   "source": [
    "# Read 'three_keywords.csv' file\n",
    "keywords = read_file(\"data/three_keywords.csv\")\n",
    "keywords.head(10)"
   ]
  },
  {
   "cell_type": "code",
   "execution_count": null,
   "id": "acaf19fa-dfc4-4462-90a0-773aa7b193d5",
   "metadata": {
    "executionCancelledAt": null,
    "executionTime": 48,
    "lastExecutedAt": 1710667648295,
    "lastScheduledRunId": null,
    "lastSuccessfullyExecutedCode": "print(f\"Name of columns in the keywords data:\\n{keywords.columns}\")\nprint(f\"\\nColumn types in the keywords data:\\n{keywords.dtypes}\")",
    "outputsMetadata": {
     "0": {
      "height": 177,
      "type": "stream"
     }
    }
   },
   "outputs": [],
   "source": [
    "print(f\"Name of columns in the keywords data:\\n{keywords.columns}\")\n",
    "print(f\"\\nColumn types in the keywords data:\\n{keywords.dtypes}\")"
   ]
  },
  {
   "cell_type": "code",
   "execution_count": null,
   "id": "25d5910d-ee44-49c8-8016-51e40c1680c7",
   "metadata": {
    "executionCancelledAt": null,
    "executionTime": 55,
    "lastExecutedAt": 1710667648351,
    "lastScheduledRunId": null,
    "lastSuccessfullyExecutedCode": "# Filter the DataFrame to include only the years 2022 and 2023\nkeywords_22_23_years = keywords[keywords[\"week\"].dt.year.isin([2022,2023])]\n\n# Find the maximum interest value overall\nhighest_interest_value = keywords_22_23_years['interest'].max()\n\n# Find the region(s) with the highest interest value\nregion_with_highest_interest = keywords_22_23_years[keywords_22_23_years['interest'] == highest_interest_value]['region'].unique()\n\nprint(f\"The region(s) with the highest interest between 2022 and 2023 is/are: {', '.join(region_with_highest_interest)} with a total interest of {highest_interest_value}.\")\n\n# Gym workouts attracted the highest interest during the period of 2022-2023\ncurrent = \"gym workout\"",
    "outputsMetadata": {
     "0": {
      "height": 57,
      "type": "stream"
     }
    }
   },
   "outputs": [],
   "source": [
    "# Filter the DataFrame to include only the years 2022 and 2023\n",
    "keywords_22_23_years = keywords[keywords[\"week\"].dt.year.isin([2022,2023])]\n",
    "\n",
    "# Find the maximum interest value overall\n",
    "highest_interest_value = keywords_22_23_years['interest'].max()\n",
    "\n",
    "# Find the region(s) with the highest interest value\n",
    "region_with_highest_interest = keywords_22_23_years[keywords_22_23_years['interest'] == highest_interest_value]['region'].unique()\n",
    "\n",
    "print(f\"The region(s) with the highest interest between 2022 and 2023 is/are: {', '.join(region_with_highest_interest)} with a total interest of {highest_interest_value}.\")\n",
    "\n",
    "# Gym workouts attracted the highest interest during the period of 2022-2023\n",
    "current = \"gym workout\""
   ]
  },
  {
   "cell_type": "code",
   "execution_count": null,
   "id": "019a74e9-80b7-44c2-aa93-36f934153ac5",
   "metadata": {
    "executionCancelledAt": null,
    "executionTime": 52,
    "lastExecutedAt": 1710667648403,
    "lastScheduledRunId": null,
    "lastSuccessfullyExecutedCode": "# Filter the DataFrane to include only the 2020 year\nkeywords_20_year = keywords[keywords[\"week\"].dt.year.isin([2020])]\n\n# Find the maximum interest value overall\nhighest_interest_value_covid = keywords_20_year['interest'].max()\n\n# Find the region(s) with the highest interest value\nregion_with_highest_interest_covid = keywords_20_year[keywords_20_year['interest'] == highest_interest_value_covid]['region'].unique()\n\nprint(f\"The region(s) with the highest interest in 2020 is/are: {', '.join(region_with_highest_interest_covid)} with a total interest of {highest_interest_value}.\")\n\n# At the peak of the COVID-19 pandemic, home workouts garnered the highest interest\npeak_covid = \"home workout\"",
    "outputsMetadata": {
     "0": {
      "height": 57,
      "type": "stream"
     }
    }
   },
   "outputs": [],
   "source": [
    "# Filter the DataFrane to include only the 2020 year\n",
    "keywords_20_year = keywords[keywords[\"week\"].dt.year.isin([2020])]\n",
    "\n",
    "# Find the maximum interest value overall\n",
    "highest_interest_value_covid = keywords_20_year['interest'].max()\n",
    "\n",
    "# Find the region(s) with the highest interest value\n",
    "region_with_highest_interest_covid = keywords_20_year[keywords_20_year['interest'] == highest_interest_value_covid]['region'].unique()\n",
    "\n",
    "print(f\"The region(s) with the highest interest in 2020 is/are: {', '.join(region_with_highest_interest_covid)} with a total interest of {highest_interest_value}.\")\n",
    "\n",
    "# At the peak of the COVID-19 pandemic, home workouts garnered the highest interest\n",
    "peak_covid = \"home workout\""
   ]
  },
  {
   "cell_type": "markdown",
   "id": "87b94956-34f7-4043-bce2-c6767287ef22",
   "metadata": {},
   "source": [
    "# 4. Segment global interest by region"
   ]
  },
  {
   "cell_type": "code",
   "execution_count": null,
   "id": "e9c708f8-b2da-4517-9910-0afe597428f3",
   "metadata": {
    "executionCancelledAt": null,
    "executionTime": 316,
    "lastExecutedAt": 1710667648719,
    "lastScheduledRunId": null,
    "lastSuccessfullyExecutedCode": "# Read 'workout_global.csv' file\nworkout_global = read_geo(\"data/workout_global.csv\")\nworkout_global.head(50)",
    "outputsMetadata": {
     "0": {
      "height": 323,
      "type": "dataFrame"
     }
    }
   },
   "outputs": [],
   "source": [
    "# Read 'workout_global.csv' file\n",
    "workout_global = read_geo(\"data/workout_global.csv\")\n",
    "workout_global.head(10)"
   ]
  },
  {
   "cell_type": "code",
   "execution_count": null,
   "id": "74ebe630-8e10-4745-989f-f7c3bd743f92",
   "metadata": {
    "executionCancelledAt": null,
    "executionTime": 52,
    "lastExecutedAt": 1710667648771,
    "lastScheduledRunId": null,
    "lastSuccessfullyExecutedCode": "print(f\"Name of columns in the workout_global data:\\n{workout_global.columns}\")\nprint(f\"\\nColumn types in the workout_global data:\\n{workout_global.dtypes}\")",
    "outputsMetadata": {
     "0": {
      "height": 157,
      "type": "stream"
     }
    }
   },
   "outputs": [],
   "source": [
    "print(f\"Name of columns in the workout_global data:\\n{workout_global.columns}\")\n",
    "print(f\"\\nColumn types in the workout_global data:\\n{workout_global.dtypes}\")"
   ]
  },
  {
   "cell_type": "code",
   "execution_count": null,
   "id": "1255c420-ec8f-4687-9f6b-93ea8ec1dafb",
   "metadata": {
    "executionCancelledAt": null,
    "executionTime": 60,
    "lastExecutedAt": 1710667648831,
    "lastScheduledRunId": null,
    "lastSuccessfullyExecutedCode": "# Select top 25 countries with the highest interest in workout\ntop_25_countries = workout_global.sort_values(by=\"interest\", ascending=False)[:25]\nprint(top_25_countries)",
    "outputsMetadata": {
     "0": {
      "height": 537,
      "type": "stream"
     }
    }
   },
   "outputs": [],
   "source": [
    "# Select top 25 countries with the highest interest in workout\n",
    "top_25_countries = workout_global.sort_values(by=\"interest\", ascending=False)[:25]\n",
    "print(top_25_countries)"
   ]
  },
  {
   "cell_type": "code",
   "execution_count": null,
   "id": "1bb0d792-1203-4f0a-a55d-a465fbd5a2c9",
   "metadata": {
    "executionCancelledAt": null,
    "executionTime": 52,
    "lastExecutedAt": 1710667648883,
    "lastScheduledRunId": null,
    "lastSuccessfullyExecutedCode": "# Get the country with the highest interest in workout\ntop_country = workout_global[workout_global[\"interest\"] == workout_global[\"interest\"].max()]\nprint(top_country)",
    "outputsMetadata": {
     "0": {
      "height": 57,
      "type": "stream"
     }
    }
   },
   "outputs": [],
   "source": [
    "# Get the country with the highest interest in workout\n",
    "top_country = workout_global[workout_global[\"interest\"] == workout_global[\"interest\"].max()]\n",
    "print(top_country)"
   ]
  },
  {
   "cell_type": "markdown",
   "id": "3e13c84f-ff05-48b4-8e17-02a1a7d1da16",
   "metadata": {},
   "source": [
    "# 5. Assessing regional demand for home workouts, gym workouts and home gyms"
   ]
  },
  {
   "cell_type": "code",
   "execution_count": null,
   "id": "3da2548d-3331-4dec-939d-c13ba77db63c",
   "metadata": {
    "executionCancelledAt": null,
    "executionTime": 1034,
    "lastExecutedAt": 1710667649917,
    "lastScheduledRunId": null,
    "lastSuccessfullyExecutedCode": "# Read 'geo_three_keywords.csv' file\ngeo_categories = read_geo(\"data/geo_three_keywords.csv\", multi=True)\ngeo_categories.head()",
    "outputsMetadata": {
     "0": {
      "height": 198,
      "type": "dataFrame"
     }
    }
   },
   "outputs": [],
   "source": [
    "# Read 'geo_three_keywords.csv' file\n",
    "geo_categories = read_geo(\"data/geo_three_keywords.csv\", multi=True)\n",
    "geo_categories.head()"
   ]
  },
  {
   "cell_type": "code",
   "execution_count": null,
   "id": "880c945e-c342-498f-8999-9342f98a0bca",
   "metadata": {
    "executionCancelledAt": null,
    "executionTime": 50,
    "lastExecutedAt": 1710667649967,
    "lastScheduledRunId": null,
    "lastSuccessfullyExecutedCode": "print(f\"Name of columns in the geo_categories data:\\n{geo_categories.columns}\")\nprint(f\"\\nColumn types in the geo_categories data:\\n{geo_categories.dtypes}\")",
    "outputsMetadata": {
     "0": {
      "height": 177,
      "type": "stream"
     }
    }
   },
   "outputs": [],
   "source": [
    "print(f\"Name of columns in the geo_categories data:\\n{geo_categories.columns}\")\n",
    "print(f\"\\nColumn types in the geo_categories data:\\n{geo_categories.dtypes}\")"
   ]
  },
  {
   "cell_type": "code",
   "execution_count": null,
   "id": "7f41cb25-f55a-46aa-ad2a-7ff3e3dc7cce",
   "metadata": {
    "executionCancelledAt": null,
    "executionTime": 56,
    "lastExecutedAt": 1710667650023,
    "lastScheduledRunId": null,
    "lastSuccessfullyExecutedCode": "# Filter the DataFrame 'geo_categories' to get countries from the Middle East and South Asia\nmesa = geo_categories.loc[geo_categories.country.isin([\"Philippines\", \"Singapore\", \"United Arab Emirates\" \"Qatar\" \"Kuwait\" \"Lebanon\" \"Malaysia\" \"Sri Lanka\" \"India\", \"Pakistan\"]), :]\nprint(mesa)",
    "outputsMetadata": {
     "0": {
      "height": 217,
      "type": "stream"
     }
    }
   },
   "outputs": [],
   "source": [
    "# Filter the DataFrame 'geo_categories' to get countries from the Middle East and South Asia\n",
    "mesa = geo_categories.loc[geo_categories.country.isin([\"Philippines\", \"Singapore\", \"United Arab Emirates\" \"Qatar\" \"Kuwait\" \"Lebanon\" \"Malaysia\" \"Sri Lanka\" \"India\", \"Pakistan\"]), :]\n",
    "print(mesa)"
   ]
  },
  {
   "cell_type": "markdown",
   "id": "f3a6d4c4-d8c4-4db5-83bc-0f796ba175f6",
   "metadata": {},
   "source": [
    "# 6. Assess the split of interest by country and category"
   ]
  },
  {
   "cell_type": "code",
   "execution_count": null,
   "id": "92d02381-37c1-4f20-969b-93b1e306fc10",
   "metadata": {
    "executionCancelledAt": null,
    "executionTime": 56,
    "lastExecutedAt": 1710667650079,
    "lastScheduledRunId": null,
    "lastSuccessfullyExecutedCode": "# Set the index of the MESA DataFrame by country and category, and then unstack it\nmesa_indexed = mesa.set_index(['country','category']).unstack()\ntop_home_workout_country = mesa_indexed['interest'].idxmax()\n\nprint(top_home_workout_country)\n# The country with the highest interest in home workouts is Philippines\"\ntop_home_workout_country = 'Philippines'",
    "outputsMetadata": {
     "0": {
      "height": 117,
      "type": "stream"
     }
    }
   },
   "outputs": [],
   "source": [
    "# Set the index of the MESA DataFrame by country and category, and then unstack it\n",
    "mesa_indexed = mesa.set_index(['country','category']).unstack()\n",
    "top_home_workout_country = mesa_indexed['interest'].idxmax()\n",
    "\n",
    "print(top_home_workout_country)\n",
    "# The country with the highest interest in home workouts is Philippines\"\n",
    "top_home_workout_country = 'Philippines'"
   ]
  },
  {
   "cell_type": "markdown",
   "id": "7d702113-b67b-46be-a06f-d5cfdf42a620",
   "metadata": {},
   "source": [
    "# 7. A deeper dive into two countries"
   ]
  },
  {
   "cell_type": "code",
   "execution_count": null,
   "id": "67262630-f089-4f2d-810e-4a3ee7e5ab1c",
   "metadata": {
    "executionCancelledAt": null,
    "executionTime": 365,
    "lastExecutedAt": 1710667650444,
    "lastScheduledRunId": null,
    "lastSuccessfullyExecutedCode": "# Read 'yoga_zumba_sng.csv' file\nread_file('data/yoga_zumba_sng.csv')",
    "outputsMetadata": {
     "0": {
      "height": 323,
      "type": "dataFrame"
     }
    }
   },
   "outputs": [],
   "source": [
    "# Read 'yoga_zumba_sng.csv' file\n",
    "read_file('data/yoga_zumba_sng.csv')"
   ]
  },
  {
   "cell_type": "code",
   "execution_count": null,
   "id": "50c6d678-bb1f-4850-aad8-01691f158242",
   "metadata": {
    "executionCancelledAt": null,
    "executionTime": 373,
    "lastExecutedAt": 1710667650817,
    "lastScheduledRunId": null,
    "lastSuccessfullyExecutedCode": "# Read 'yoga_zumba_phl.csv' file\nread_file('data/yoga_zumba_phl.csv')",
    "outputsMetadata": {
     "0": {
      "height": 323,
      "type": "dataFrame"
     }
    }
   },
   "outputs": [],
   "source": [
    "# Read 'yoga_zumba_phl.csv' file\n",
    "read_file('data/yoga_zumba_phl.csv')"
   ]
  },
  {
   "cell_type": "code",
   "execution_count": null,
   "id": "01b19bf2-dd15-4ffc-b0e4-9f53d6d0edf6",
   "metadata": {
    "executionCancelledAt": null,
    "executionTime": 49,
    "lastExecutedAt": 1710667650866,
    "lastScheduledRunId": null,
    "lastSuccessfullyExecutedCode": "# As depicted in the plots, the peak interest in yoga and zumba is observed in the Philippines and Singapore\npilot_content = ['yoga', 'zumba']"
   },
   "outputs": [],
   "source": [
    "# As depicted in the plots, the peak interest in yoga and zumba is observed in the Philippines and Singapore\n",
    "pilot_content = ['yoga', 'zumba']"
   ]
  }
 ],
 "metadata": {
  "colab": {
   "name": "Welcome to DataCamp Workspaces.ipynb",
   "provenance": []
  },
  "kernelspec": {
   "display_name": "Python 3 (ipykernel)",
   "language": "python",
   "name": "python3"
  },
  "language_info": {
   "codemirror_mode": {
    "name": "ipython",
    "version": 3
   },
   "file_extension": ".py",
   "mimetype": "text/x-python",
   "name": "python",
   "nbconvert_exporter": "python",
   "pygments_lexer": "ipython3",
   "version": "3.12.0"
  }
 },
 "nbformat": 4,
 "nbformat_minor": 5
}
