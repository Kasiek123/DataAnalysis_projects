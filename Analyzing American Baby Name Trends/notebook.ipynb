{
 "cells": [
  {
   "cell_type": "markdown",
   "metadata": {
    "dc": {
     "key": "8"
    },
    "deletable": false,
    "editable": false,
    "run_control": {
     "frozen": true
    },
    "tags": [
     "context"
    ]
   },
   "source": [
    "## 1. Classic American names\n",
    "<p><img src=\"https://assets.datacamp.com/production/project_1441/img/name.jpg\" alt=\"Lots of name tags piled on top of each other.\" width=\"600\"></p>\n",
    "<p>Photo by Travis Wise on <a href=\"https://commons.wikimedia.org/wiki/File:Hello_My_Name_Is_(15283079263).jpg\">Wikimedia</a>.</p>\n",
    "<p>How have American baby name tastes changed since 1920?  Which names have remained popular for over 100 years, and how do those names compare to more recent top baby names? These are considerations for many new parents, but the skills we'll practice while answering these queries are broadly applicable. After all, understanding trends and popularity is important for many businesses, too! </p>\n",
    "<p>We'll be working with data provided by the United States Social Security Administration, which lists first names along with the number and sex of babies they were given to in each year. For processing speed purposes, we've limited the dataset to first names which were given to over 5,000 American babies in a given year. Our data spans 101 years, from 1920 through 2020.</p>\n",
    "<h3 id=\"baby_names\"><code>baby_names</code></h3>\n",
    "<table>\n",
    "<thead>\n",
    "<tr>\n",
    "<th style=\"text-align:left;\">column</th>\n",
    "<th>type</th>\n",
    "<th>meaning</th>\n",
    "</tr>\n",
    "</thead>\n",
    "<tbody>\n",
    "<tr>\n",
    "<td style=\"text-align:left;\"><code>year</code></td>\n",
    "<td>int</td>\n",
    "<td>year</td>\n",
    "</tr>\n",
    "<tr>\n",
    "<td style=\"text-align:left;\"><code>first_name</code></td>\n",
    "<td>varchar</td>\n",
    "<td>first name</td>\n",
    "</tr>\n",
    "<tr>\n",
    "<td style=\"text-align:left;\"><code>sex</code></td>\n",
    "<td>varchar</td>\n",
    "<td><code>sex</code> of babies given <code>first_name</code></td>\n",
    "</tr>\n",
    "<tr>\n",
    "<td style=\"text-align:left;\"><code>num</code></td>\n",
    "<td>int</td>\n",
    "<td>number of babies of <code>sex</code> given <code>first_name</code> in that <code>year</code></td>\n",
    "</tr>\n",
    "</tbody>\n",
    "</table>\n",
    "<p>Let's get oriented to American baby name tastes by looking at the names that have stood the test of time!</p>"
   ]
  },
  {
   "cell_type": "code",
   "execution_count": 1,
   "metadata": {},
   "outputs": [],
   "source": [
    "%load_ext sql\n",
    "%config SqlMagic.displaycon=False "
   ]
  },
  {
   "cell_type": "code",
   "execution_count": 3,
   "metadata": {
    "dc": {
     "key": "8"
    },
    "tags": [
     "sample_code"
    ]
   },
   "outputs": [
    {
     "name": "stdout",
     "output_type": "stream",
     "text": [
      "8 rows affected.\n"
     ]
    },
    {
     "data": {
      "text/html": [
       "<table>\n",
       "    <thead>\n",
       "        <tr>\n",
       "            <th>first_name</th>\n",
       "            <th>sum</th>\n",
       "        </tr>\n",
       "    </thead>\n",
       "    <tbody>\n",
       "        <tr>\n",
       "            <td>James                                                           </td>\n",
       "            <td>4748138</td>\n",
       "        </tr>\n",
       "        <tr>\n",
       "            <td>John                                                            </td>\n",
       "            <td>4510721</td>\n",
       "        </tr>\n",
       "        <tr>\n",
       "            <td>William                                                         </td>\n",
       "            <td>3614424</td>\n",
       "        </tr>\n",
       "        <tr>\n",
       "            <td>David                                                           </td>\n",
       "            <td>3571498</td>\n",
       "        </tr>\n",
       "        <tr>\n",
       "            <td>Joseph                                                          </td>\n",
       "            <td>2361382</td>\n",
       "        </tr>\n",
       "        <tr>\n",
       "            <td>Thomas                                                          </td>\n",
       "            <td>2166802</td>\n",
       "        </tr>\n",
       "        <tr>\n",
       "            <td>Charles                                                         </td>\n",
       "            <td>2112352</td>\n",
       "        </tr>\n",
       "        <tr>\n",
       "            <td>Elizabeth                                                       </td>\n",
       "            <td>1436286</td>\n",
       "        </tr>\n",
       "    </tbody>\n",
       "</table>"
      ],
      "text/plain": [
       "[('James                                                           ', 4748138),\n",
       " ('John                                                            ', 4510721),\n",
       " ('William                                                         ', 3614424),\n",
       " ('David                                                           ', 3571498),\n",
       " ('Joseph                                                          ', 2361382),\n",
       " ('Thomas                                                          ', 2166802),\n",
       " ('Charles                                                         ', 2112352),\n",
       " ('Elizabeth                                                       ', 1436286)]"
      ]
     },
     "execution_count": 3,
     "metadata": {},
     "output_type": "execute_result"
    }
   ],
   "source": [
    "%%sql\n",
    "-- Select first names and the total babies with that first_name\n",
    "-- Group by first_name and filter for those names that appear in all 101 years\n",
    "-- Order by the total number of babies with that first_name, descending\n",
    "\n",
    "SELECT first_name, SUM(num)\n",
    "  FROM usa_baby_names\n",
    " GROUP BY first_name\n",
    "HAVING COUNT(year) = 101\n",
    "ORDER BY SUM(num) DESC;"
   ]
  },
  {
   "cell_type": "markdown",
   "metadata": {
    "dc": {
     "key": "15"
    },
    "deletable": false,
    "editable": false,
    "run_control": {
     "frozen": true
    },
    "tags": [
     "context"
    ]
   },
   "source": [
    "## 2. Timeless or trendy?\n",
    "<p>Wow, it looks like there are a lot of timeless traditionally male names! Elizabeth is holding her own for the female names, too. </p>\n",
    "<p>Now, let's broaden our understanding of the dataset by looking at all names. We'll attempt to capture the type of popularity that each name in the dataset enjoyed. Was the name classic and popular across many years or trendy, only popular for a few years? Let's find out. </p>"
   ]
  },
  {
   "cell_type": "code",
   "execution_count": 4,
   "metadata": {
    "dc": {
     "key": "15"
    },
    "tags": [
     "sample_code"
    ]
   },
   "outputs": [
    {
     "name": "stdout",
     "output_type": "stream",
     "text": [
      "10 rows affected.\n"
     ]
    },
    {
     "data": {
      "text/html": [
       "<table>\n",
       "    <thead>\n",
       "        <tr>\n",
       "            <th>first_name</th>\n",
       "            <th>sum</th>\n",
       "            <th>popularity_type</th>\n",
       "        </tr>\n",
       "    </thead>\n",
       "    <tbody>\n",
       "        <tr>\n",
       "            <td>Aaliyah                                                         </td>\n",
       "            <td>15870</td>\n",
       "            <td>Trendy</td>\n",
       "        </tr>\n",
       "        <tr>\n",
       "            <td>Aaron                                                           </td>\n",
       "            <td>530592</td>\n",
       "            <td>Semi-classic</td>\n",
       "        </tr>\n",
       "        <tr>\n",
       "            <td>Abigail                                                         </td>\n",
       "            <td>338485</td>\n",
       "            <td>Semi-trendy</td>\n",
       "        </tr>\n",
       "        <tr>\n",
       "            <td>Adam                                                            </td>\n",
       "            <td>497293</td>\n",
       "            <td>Semi-trendy</td>\n",
       "        </tr>\n",
       "        <tr>\n",
       "            <td>Addison                                                         </td>\n",
       "            <td>107433</td>\n",
       "            <td>Trendy</td>\n",
       "        </tr>\n",
       "        <tr>\n",
       "            <td>Adrian                                                          </td>\n",
       "            <td>147741</td>\n",
       "            <td>Semi-trendy</td>\n",
       "        </tr>\n",
       "        <tr>\n",
       "            <td>Aidan                                                           </td>\n",
       "            <td>68566</td>\n",
       "            <td>Trendy</td>\n",
       "        </tr>\n",
       "        <tr>\n",
       "            <td>Aiden                                                           </td>\n",
       "            <td>216194</td>\n",
       "            <td>Trendy</td>\n",
       "        </tr>\n",
       "        <tr>\n",
       "            <td>Alan                                                            </td>\n",
       "            <td>162041</td>\n",
       "            <td>Semi-trendy</td>\n",
       "        </tr>\n",
       "        <tr>\n",
       "            <td>Albert                                                          </td>\n",
       "            <td>260945</td>\n",
       "            <td>Semi-trendy</td>\n",
       "        </tr>\n",
       "    </tbody>\n",
       "</table>"
      ],
      "text/plain": [
       "[('Aaliyah                                                         ', 15870, 'Trendy'),\n",
       " ('Aaron                                                           ', 530592, 'Semi-classic'),\n",
       " ('Abigail                                                         ', 338485, 'Semi-trendy'),\n",
       " ('Adam                                                            ', 497293, 'Semi-trendy'),\n",
       " ('Addison                                                         ', 107433, 'Trendy'),\n",
       " ('Adrian                                                          ', 147741, 'Semi-trendy'),\n",
       " ('Aidan                                                           ', 68566, 'Trendy'),\n",
       " ('Aiden                                                           ', 216194, 'Trendy'),\n",
       " ('Alan                                                            ', 162041, 'Semi-trendy'),\n",
       " ('Albert                                                          ', 260945, 'Semi-trendy')]"
      ]
     },
     "execution_count": 4,
     "metadata": {},
     "output_type": "execute_result"
    }
   ],
   "source": [
    "%%sql\n",
    "\n",
    "-- Classify first names as 'Classic', 'Semi-classic', 'Semi-trendy', or 'Trendy'\n",
    "-- Alias this column as popularity_type\n",
    "-- Select first_name, the sum of babies who have ever had that name, and popularity_type\n",
    "-- Order the results alphabetically by first_name\n",
    "\n",
    "SELECT first_name, SUM(num),\n",
    "  CASE\n",
    "      WHEN COUNT(num) > 80 THEN 'Classic'\n",
    "      WHEN COUNT(num) > 50 THEN 'Semi-classic'\n",
    "      WHEN COUNT(num) > 20 THEN 'Semi-trendy'\n",
    "      ELSE 'Trendy'\n",
    "  END AS popularity_type\n",
    "  FROM usa_baby_names\n",
    " GROUP BY first_name\n",
    " ORDER BY first_name\n",
    " LIMIt 10;"
   ]
  },
  {
   "cell_type": "markdown",
   "metadata": {
    "dc": {
     "key": "22"
    },
    "deletable": false,
    "editable": false,
    "run_control": {
     "frozen": true
    },
    "tags": [
     "context"
    ]
   },
   "source": [
    "## 3. Top-ranked female names since 1920\n",
    "<p>Did you find your favorite American celebrity's name on the popularity chart? Was it classic or trendy? How do you think the name Henry did? What about Jaxon?</p>\n",
    "<p>Since we didn't get many traditionally female names in our classic American names search in the first task, let's limit our search to names which were given to female babies. </p>\n",
    "<p>We can use this opportunity to practice window functions by assigning a rank to female names based on the number of babies that have ever been given that name. What are the top-ranked female names since 1920?</p>"
   ]
  },
  {
   "cell_type": "code",
   "execution_count": 5,
   "metadata": {
    "dc": {
     "key": "22"
    },
    "tags": [
     "sample_code"
    ]
   },
   "outputs": [
    {
     "name": "stdout",
     "output_type": "stream",
     "text": [
      "10 rows affected.\n"
     ]
    },
    {
     "data": {
      "text/html": [
       "<table>\n",
       "    <thead>\n",
       "        <tr>\n",
       "            <th>first_name</th>\n",
       "            <th>sum</th>\n",
       "            <th>name_rank</th>\n",
       "        </tr>\n",
       "    </thead>\n",
       "    <tbody>\n",
       "        <tr>\n",
       "            <td>Mary                                                            </td>\n",
       "            <td>3215850</td>\n",
       "            <td>1</td>\n",
       "        </tr>\n",
       "        <tr>\n",
       "            <td>Patricia                                                        </td>\n",
       "            <td>1479802</td>\n",
       "            <td>2</td>\n",
       "        </tr>\n",
       "        <tr>\n",
       "            <td>Elizabeth                                                       </td>\n",
       "            <td>1436286</td>\n",
       "            <td>3</td>\n",
       "        </tr>\n",
       "        <tr>\n",
       "            <td>Jennifer                                                        </td>\n",
       "            <td>1404743</td>\n",
       "            <td>4</td>\n",
       "        </tr>\n",
       "        <tr>\n",
       "            <td>Linda                                                           </td>\n",
       "            <td>1361021</td>\n",
       "            <td>5</td>\n",
       "        </tr>\n",
       "        <tr>\n",
       "            <td>Barbara                                                         </td>\n",
       "            <td>1343901</td>\n",
       "            <td>6</td>\n",
       "        </tr>\n",
       "        <tr>\n",
       "            <td>Susan                                                           </td>\n",
       "            <td>1025728</td>\n",
       "            <td>7</td>\n",
       "        </tr>\n",
       "        <tr>\n",
       "            <td>Jessica                                                         </td>\n",
       "            <td>994210</td>\n",
       "            <td>8</td>\n",
       "        </tr>\n",
       "        <tr>\n",
       "            <td>Lisa                                                            </td>\n",
       "            <td>920119</td>\n",
       "            <td>9</td>\n",
       "        </tr>\n",
       "        <tr>\n",
       "            <td>Betty                                                           </td>\n",
       "            <td>893396</td>\n",
       "            <td>10</td>\n",
       "        </tr>\n",
       "    </tbody>\n",
       "</table>"
      ],
      "text/plain": [
       "[('Mary                                                            ', 3215850, 1),\n",
       " ('Patricia                                                        ', 1479802, 2),\n",
       " ('Elizabeth                                                       ', 1436286, 3),\n",
       " ('Jennifer                                                        ', 1404743, 4),\n",
       " ('Linda                                                           ', 1361021, 5),\n",
       " ('Barbara                                                         ', 1343901, 6),\n",
       " ('Susan                                                           ', 1025728, 7),\n",
       " ('Jessica                                                         ', 994210, 8),\n",
       " ('Lisa                                                            ', 920119, 9),\n",
       " ('Betty                                                           ', 893396, 10)]"
      ]
     },
     "execution_count": 5,
     "metadata": {},
     "output_type": "execute_result"
    }
   ],
   "source": [
    "%%sql\n",
    "\n",
    "-- RANK names by the sum of babies who have ever had that name (descending), aliasing as name_rank\n",
    "-- Select name_rank, first_name, and the sum of babies who have ever had that name\n",
    "-- Filter the data for results where sex equals 'F'\n",
    "-- Limit to ten results\n",
    "\n",
    "SELECT first_name, SUM(num), \n",
    "       RANK() OVER (ORDER BY SUM(num) DESC) AS name_rank\n",
    "  FROM usa_baby_names\n",
    " WHERE sex = 'F'\n",
    " GROUP BY first_name\n",
    " LIMIT 10;"
   ]
  },
  {
   "cell_type": "markdown",
   "metadata": {
    "dc": {
     "key": "29"
    },
    "deletable": false,
    "editable": false,
    "run_control": {
     "frozen": true
    },
    "tags": [
     "context"
    ]
   },
   "source": [
    "## 4. Picking a baby name\n",
    "<p>Perhaps a friend has heard of our work analyzing baby names and would like help choosing a name for her baby, a girl. She doesn't like any of the top-ranked names we found in the previous task. </p>\n",
    "<p>She's set on a traditionally female name ending in the letter 'a' since she's heard that vowels in baby names are trendy. She's also looking for a name that has been popular in the years since 2015. </p>\n",
    "<p>Let's see what we can do to find some options for this friend!</p>"
   ]
  },
  {
   "cell_type": "code",
   "execution_count": 6,
   "metadata": {
    "dc": {
     "key": "29"
    },
    "tags": [
     "sample_code"
    ]
   },
   "outputs": [
    {
     "name": "stdout",
     "output_type": "stream",
     "text": [
      "0 rows affected.\n"
     ]
    },
    {
     "data": {
      "text/html": [
       "<table>\n",
       "    <thead>\n",
       "        <tr>\n",
       "            <th>first_name</th>\n",
       "        </tr>\n",
       "    </thead>\n",
       "    <tbody>\n",
       "    </tbody>\n",
       "</table>"
      ],
      "text/plain": [
       "[]"
      ]
     },
     "execution_count": 6,
     "metadata": {},
     "output_type": "execute_result"
    }
   ],
   "source": [
    "%%sql\n",
    "-- Select only the first_name column\n",
    "-- Filter for results where sex is 'F', year is greater than 2015, and first_name ends in 'a'\n",
    "-- Group by first_name and order by the total number of babies given that first_name\n",
    "\n",
    "SELECT first_name\n",
    "  FROM usa_baby_names\n",
    " WHERE sex = 'F' AND\n",
    "       year > 2015 AND\n",
    "       first_name LIKE '%a'\n",
    " GROUP BY first_name\n",
    " ORDER BY SUM(num) DESC;"
   ]
  },
  {
   "cell_type": "markdown",
   "metadata": {
    "dc": {
     "key": "36"
    },
    "deletable": false,
    "editable": false,
    "run_control": {
     "frozen": true
    },
    "tags": [
     "context"
    ]
   },
   "source": [
    "## 5. The Olivia expansion\n",
    "<p>Based on the results in the previous task, we can see that Olivia is the most popular female name ending in 'A' since 2015. When did the name Olivia become so popular?</p>\n",
    "<p>Let's explore the rise of the name Olivia with the help of a window function.</p>"
   ]
  },
  {
   "cell_type": "code",
   "execution_count": 7,
   "metadata": {
    "dc": {
     "key": "36"
    },
    "tags": [
     "sample_code"
    ]
   },
   "outputs": [
    {
     "name": "stdout",
     "output_type": "stream",
     "text": [
      "30 rows affected.\n"
     ]
    },
    {
     "data": {
      "text/html": [
       "<table>\n",
       "    <thead>\n",
       "        <tr>\n",
       "            <th>year</th>\n",
       "            <th>first_name</th>\n",
       "            <th>num</th>\n",
       "            <th>cumulative_olivias</th>\n",
       "        </tr>\n",
       "    </thead>\n",
       "    <tbody>\n",
       "        <tr>\n",
       "            <td>1991</td>\n",
       "            <td>Olivia                                                          </td>\n",
       "            <td>5601</td>\n",
       "            <td>5601</td>\n",
       "        </tr>\n",
       "        <tr>\n",
       "            <td>1992</td>\n",
       "            <td>Olivia                                                          </td>\n",
       "            <td>5809</td>\n",
       "            <td>11410</td>\n",
       "        </tr>\n",
       "        <tr>\n",
       "            <td>1993</td>\n",
       "            <td>Olivia                                                          </td>\n",
       "            <td>6340</td>\n",
       "            <td>17750</td>\n",
       "        </tr>\n",
       "        <tr>\n",
       "            <td>1994</td>\n",
       "            <td>Olivia                                                          </td>\n",
       "            <td>6434</td>\n",
       "            <td>24184</td>\n",
       "        </tr>\n",
       "        <tr>\n",
       "            <td>1995</td>\n",
       "            <td>Olivia                                                          </td>\n",
       "            <td>7624</td>\n",
       "            <td>31808</td>\n",
       "        </tr>\n",
       "        <tr>\n",
       "            <td>1996</td>\n",
       "            <td>Olivia                                                          </td>\n",
       "            <td>8124</td>\n",
       "            <td>39932</td>\n",
       "        </tr>\n",
       "        <tr>\n",
       "            <td>1997</td>\n",
       "            <td>Olivia                                                          </td>\n",
       "            <td>9477</td>\n",
       "            <td>49409</td>\n",
       "        </tr>\n",
       "        <tr>\n",
       "            <td>1998</td>\n",
       "            <td>Olivia                                                          </td>\n",
       "            <td>10610</td>\n",
       "            <td>60019</td>\n",
       "        </tr>\n",
       "        <tr>\n",
       "            <td>1999</td>\n",
       "            <td>Olivia                                                          </td>\n",
       "            <td>11255</td>\n",
       "            <td>71274</td>\n",
       "        </tr>\n",
       "        <tr>\n",
       "            <td>2000</td>\n",
       "            <td>Olivia                                                          </td>\n",
       "            <td>12852</td>\n",
       "            <td>84126</td>\n",
       "        </tr>\n",
       "        <tr>\n",
       "            <td>2001</td>\n",
       "            <td>Olivia                                                          </td>\n",
       "            <td>13977</td>\n",
       "            <td>98103</td>\n",
       "        </tr>\n",
       "        <tr>\n",
       "            <td>2002</td>\n",
       "            <td>Olivia                                                          </td>\n",
       "            <td>14630</td>\n",
       "            <td>112733</td>\n",
       "        </tr>\n",
       "        <tr>\n",
       "            <td>2003</td>\n",
       "            <td>Olivia                                                          </td>\n",
       "            <td>16152</td>\n",
       "            <td>128885</td>\n",
       "        </tr>\n",
       "        <tr>\n",
       "            <td>2004</td>\n",
       "            <td>Olivia                                                          </td>\n",
       "            <td>16106</td>\n",
       "            <td>144991</td>\n",
       "        </tr>\n",
       "        <tr>\n",
       "            <td>2005</td>\n",
       "            <td>Olivia                                                          </td>\n",
       "            <td>15694</td>\n",
       "            <td>160685</td>\n",
       "        </tr>\n",
       "        <tr>\n",
       "            <td>2006</td>\n",
       "            <td>Olivia                                                          </td>\n",
       "            <td>15501</td>\n",
       "            <td>176186</td>\n",
       "        </tr>\n",
       "        <tr>\n",
       "            <td>2007</td>\n",
       "            <td>Olivia                                                          </td>\n",
       "            <td>16584</td>\n",
       "            <td>192770</td>\n",
       "        </tr>\n",
       "        <tr>\n",
       "            <td>2008</td>\n",
       "            <td>Olivia                                                          </td>\n",
       "            <td>17084</td>\n",
       "            <td>209854</td>\n",
       "        </tr>\n",
       "        <tr>\n",
       "            <td>2009</td>\n",
       "            <td>Olivia                                                          </td>\n",
       "            <td>17438</td>\n",
       "            <td>227292</td>\n",
       "        </tr>\n",
       "        <tr>\n",
       "            <td>2010</td>\n",
       "            <td>Olivia                                                          </td>\n",
       "            <td>17029</td>\n",
       "            <td>244321</td>\n",
       "        </tr>\n",
       "        <tr>\n",
       "            <td>2011</td>\n",
       "            <td>Olivia                                                          </td>\n",
       "            <td>17327</td>\n",
       "            <td>261648</td>\n",
       "        </tr>\n",
       "        <tr>\n",
       "            <td>2012</td>\n",
       "            <td>Olivia                                                          </td>\n",
       "            <td>17320</td>\n",
       "            <td>278968</td>\n",
       "        </tr>\n",
       "        <tr>\n",
       "            <td>2013</td>\n",
       "            <td>Olivia                                                          </td>\n",
       "            <td>18439</td>\n",
       "            <td>297407</td>\n",
       "        </tr>\n",
       "        <tr>\n",
       "            <td>2014</td>\n",
       "            <td>Olivia                                                          </td>\n",
       "            <td>19823</td>\n",
       "            <td>317230</td>\n",
       "        </tr>\n",
       "        <tr>\n",
       "            <td>2015</td>\n",
       "            <td>Olivia                                                          </td>\n",
       "            <td>19710</td>\n",
       "            <td>336940</td>\n",
       "        </tr>\n",
       "        <tr>\n",
       "            <td>2016</td>\n",
       "            <td>Olivia                                                          </td>\n",
       "            <td>19380</td>\n",
       "            <td>356320</td>\n",
       "        </tr>\n",
       "        <tr>\n",
       "            <td>2017</td>\n",
       "            <td>Olivia                                                          </td>\n",
       "            <td>18744</td>\n",
       "            <td>375064</td>\n",
       "        </tr>\n",
       "        <tr>\n",
       "            <td>2018</td>\n",
       "            <td>Olivia                                                          </td>\n",
       "            <td>18011</td>\n",
       "            <td>393075</td>\n",
       "        </tr>\n",
       "        <tr>\n",
       "            <td>2019</td>\n",
       "            <td>Olivia                                                          </td>\n",
       "            <td>18508</td>\n",
       "            <td>411583</td>\n",
       "        </tr>\n",
       "        <tr>\n",
       "            <td>2020</td>\n",
       "            <td>Olivia                                                          </td>\n",
       "            <td>17535</td>\n",
       "            <td>429118</td>\n",
       "        </tr>\n",
       "    </tbody>\n",
       "</table>"
      ],
      "text/plain": [
       "[(1991, 'Olivia                                                          ', 5601, 5601),\n",
       " (1992, 'Olivia                                                          ', 5809, 11410),\n",
       " (1993, 'Olivia                                                          ', 6340, 17750),\n",
       " (1994, 'Olivia                                                          ', 6434, 24184),\n",
       " (1995, 'Olivia                                                          ', 7624, 31808),\n",
       " (1996, 'Olivia                                                          ', 8124, 39932),\n",
       " (1997, 'Olivia                                                          ', 9477, 49409),\n",
       " (1998, 'Olivia                                                          ', 10610, 60019),\n",
       " (1999, 'Olivia                                                          ', 11255, 71274),\n",
       " (2000, 'Olivia                                                          ', 12852, 84126),\n",
       " (2001, 'Olivia                                                          ', 13977, 98103),\n",
       " (2002, 'Olivia                                                          ', 14630, 112733),\n",
       " (2003, 'Olivia                                                          ', 16152, 128885),\n",
       " (2004, 'Olivia                                                          ', 16106, 144991),\n",
       " (2005, 'Olivia                                                          ', 15694, 160685),\n",
       " (2006, 'Olivia                                                          ', 15501, 176186),\n",
       " (2007, 'Olivia                                                          ', 16584, 192770),\n",
       " (2008, 'Olivia                                                          ', 17084, 209854),\n",
       " (2009, 'Olivia                                                          ', 17438, 227292),\n",
       " (2010, 'Olivia                                                          ', 17029, 244321),\n",
       " (2011, 'Olivia                                                          ', 17327, 261648),\n",
       " (2012, 'Olivia                                                          ', 17320, 278968),\n",
       " (2013, 'Olivia                                                          ', 18439, 297407),\n",
       " (2014, 'Olivia                                                          ', 19823, 317230),\n",
       " (2015, 'Olivia                                                          ', 19710, 336940),\n",
       " (2016, 'Olivia                                                          ', 19380, 356320),\n",
       " (2017, 'Olivia                                                          ', 18744, 375064),\n",
       " (2018, 'Olivia                                                          ', 18011, 393075),\n",
       " (2019, 'Olivia                                                          ', 18508, 411583),\n",
       " (2020, 'Olivia                                                          ', 17535, 429118)]"
      ]
     },
     "execution_count": 7,
     "metadata": {},
     "output_type": "execute_result"
    }
   ],
   "source": [
    "%%sql\n",
    "\n",
    "-- Select year, first_name, num of Olivias in that year, and cumulative_olivias\n",
    "-- Sum the cumulative babies who have been named Olivia up to that year; alias as cumulative_olivias\n",
    "-- Filter so that only data for the name Olivia is returned.\n",
    "-- Order by year from the earliest year to most recent\n",
    "\n",
    "SELECT year, first_name, num,\n",
    "      SUM(num) OVER(ORDER BY year) AS cumulative_olivias\n",
    "  FROM usa_baby_names\n",
    " WHERE first_name = 'Olivia'\n",
    " ORDER BY year;"
   ]
  },
  {
   "cell_type": "markdown",
   "metadata": {
    "dc": {
     "key": "43"
    },
    "deletable": false,
    "editable": false,
    "run_control": {
     "frozen": true
    },
    "tags": [
     "context"
    ]
   },
   "source": [
    "## 6. Many males with the same name\n",
    "<p>Wow, Olivia has had a meteoric rise! Let's take a look at traditionally male names now. We saw in the first task that there are nine traditionally male names given to at least 5,000 babies every single year in our 101-year dataset! Those names are classics, but showing up in the dataset every year doesn't necessarily mean that the timeless names were the most popular. Let's explore popular male names a little further.</p>\n",
    "<p>In the next two tasks, we will build up to listing every year along with the most popular male name in that year. This presents a common problem: how do we find the greatest X in a group? Or, in the context of this problem, how do we find the male name given to the highest number of babies in a year? </p>\n",
    "<p>In SQL, one approach is to use a subquery. We can first write a query that selects the <code>year</code> and the maximum <code>num</code> of babies given any single male name in that year. For example, in 1989, the male name given to the highest number of babies was given to 65,339 babies. We'll write this query in this task. In the next task, we can use the code from this task as a subquery to look up the <code>first_name</code> that was given to 65,339 babies in 1989… as well as the top male first name for all other years!</p>"
   ]
  },
  {
   "cell_type": "code",
   "execution_count": 8,
   "metadata": {
    "dc": {
     "key": "43"
    },
    "tags": [
     "sample_code"
    ]
   },
   "outputs": [
    {
     "name": "stdout",
     "output_type": "stream",
     "text": [
      "10 rows affected.\n"
     ]
    },
    {
     "data": {
      "text/html": [
       "<table>\n",
       "    <thead>\n",
       "        <tr>\n",
       "            <th>year</th>\n",
       "            <th>max_num</th>\n",
       "        </tr>\n",
       "    </thead>\n",
       "    <tbody>\n",
       "        <tr>\n",
       "            <td>1964</td>\n",
       "            <td>82642</td>\n",
       "        </tr>\n",
       "        <tr>\n",
       "            <td>1969</td>\n",
       "            <td>85201</td>\n",
       "        </tr>\n",
       "        <tr>\n",
       "            <td>2008</td>\n",
       "            <td>22603</td>\n",
       "        </tr>\n",
       "        <tr>\n",
       "            <td>1991</td>\n",
       "            <td>60793</td>\n",
       "        </tr>\n",
       "        <tr>\n",
       "            <td>1989</td>\n",
       "            <td>65399</td>\n",
       "        </tr>\n",
       "        <tr>\n",
       "            <td>1945</td>\n",
       "            <td>74460</td>\n",
       "        </tr>\n",
       "        <tr>\n",
       "            <td>1974</td>\n",
       "            <td>67580</td>\n",
       "        </tr>\n",
       "        <tr>\n",
       "            <td>1977</td>\n",
       "            <td>67609</td>\n",
       "        </tr>\n",
       "        <tr>\n",
       "            <td>1971</td>\n",
       "            <td>77599</td>\n",
       "        </tr>\n",
       "        <tr>\n",
       "            <td>1943</td>\n",
       "            <td>80274</td>\n",
       "        </tr>\n",
       "    </tbody>\n",
       "</table>"
      ],
      "text/plain": [
       "[(1964, 82642),\n",
       " (1969, 85201),\n",
       " (2008, 22603),\n",
       " (1991, 60793),\n",
       " (1989, 65399),\n",
       " (1945, 74460),\n",
       " (1974, 67580),\n",
       " (1977, 67609),\n",
       " (1971, 77599),\n",
       " (1943, 80274)]"
      ]
     },
     "execution_count": 8,
     "metadata": {},
     "output_type": "execute_result"
    }
   ],
   "source": [
    "%%sql\n",
    "\n",
    "-- Select year and maximum number of babies given any one male name in that year, aliased as max_num\n",
    "-- Filter the data to include only results where sex equals 'M'\n",
    "\n",
    "SELECT year, MAX(num) AS max_num\n",
    "  FROM usa_baby_names\n",
    " WHERE sex = 'M'\n",
    " GROUP BY year\n",
    " LIMIT 10;"
   ]
  },
  {
   "cell_type": "markdown",
   "metadata": {
    "dc": {
     "key": "50"
    },
    "deletable": false,
    "editable": false,
    "run_control": {
     "frozen": true
    },
    "tags": [
     "context"
    ]
   },
   "source": [
    "## 7. Top male names over the years\n",
    "<p>In the previous task, we found the maximum number of babies given any one male name in each year. Incredibly, the most popular name each year varied from being given to less than 20,000 babies to being given to more than 90,000! </p>\n",
    "<p>In this task, we find out what that top male name is for each year in our dataset. </p>"
   ]
  },
  {
   "cell_type": "code",
   "execution_count": 9,
   "metadata": {
    "dc": {
     "key": "50"
    },
    "tags": [
     "sample_code"
    ]
   },
   "outputs": [
    {
     "name": "stdout",
     "output_type": "stream",
     "text": [
      "10 rows affected.\n"
     ]
    },
    {
     "data": {
      "text/html": [
       "<table>\n",
       "    <thead>\n",
       "        <tr>\n",
       "            <th>year</th>\n",
       "            <th>first_name</th>\n",
       "            <th>num</th>\n",
       "        </tr>\n",
       "    </thead>\n",
       "    <tbody>\n",
       "        <tr>\n",
       "            <td>2020</td>\n",
       "            <td>Liam                                                            </td>\n",
       "            <td>19659</td>\n",
       "        </tr>\n",
       "        <tr>\n",
       "            <td>2019</td>\n",
       "            <td>Liam                                                            </td>\n",
       "            <td>20555</td>\n",
       "        </tr>\n",
       "        <tr>\n",
       "            <td>2018</td>\n",
       "            <td>Liam                                                            </td>\n",
       "            <td>19924</td>\n",
       "        </tr>\n",
       "        <tr>\n",
       "            <td>2017</td>\n",
       "            <td>Liam                                                            </td>\n",
       "            <td>18824</td>\n",
       "        </tr>\n",
       "        <tr>\n",
       "            <td>2016</td>\n",
       "            <td>Noah                                                            </td>\n",
       "            <td>19154</td>\n",
       "        </tr>\n",
       "        <tr>\n",
       "            <td>2015</td>\n",
       "            <td>Noah                                                            </td>\n",
       "            <td>19650</td>\n",
       "        </tr>\n",
       "        <tr>\n",
       "            <td>2014</td>\n",
       "            <td>Noah                                                            </td>\n",
       "            <td>19319</td>\n",
       "        </tr>\n",
       "        <tr>\n",
       "            <td>2013</td>\n",
       "            <td>Noah                                                            </td>\n",
       "            <td>18266</td>\n",
       "        </tr>\n",
       "        <tr>\n",
       "            <td>2012</td>\n",
       "            <td>Jacob                                                           </td>\n",
       "            <td>19088</td>\n",
       "        </tr>\n",
       "        <tr>\n",
       "            <td>2011</td>\n",
       "            <td>Jacob                                                           </td>\n",
       "            <td>20378</td>\n",
       "        </tr>\n",
       "    </tbody>\n",
       "</table>"
      ],
      "text/plain": [
       "[(2020, 'Liam                                                            ', 19659),\n",
       " (2019, 'Liam                                                            ', 20555),\n",
       " (2018, 'Liam                                                            ', 19924),\n",
       " (2017, 'Liam                                                            ', 18824),\n",
       " (2016, 'Noah                                                            ', 19154),\n",
       " (2015, 'Noah                                                            ', 19650),\n",
       " (2014, 'Noah                                                            ', 19319),\n",
       " (2013, 'Noah                                                            ', 18266),\n",
       " (2012, 'Jacob                                                           ', 19088),\n",
       " (2011, 'Jacob                                                           ', 20378)]"
      ]
     },
     "execution_count": 9,
     "metadata": {},
     "output_type": "execute_result"
    }
   ],
   "source": [
    "%%sql\n",
    "\n",
    "-- Select year, first_name given to the largest number of male babies, and num of babies given that name\n",
    "-- Join baby_names to the code in the last task as a subquery\n",
    "-- Order results by year descending\n",
    "\n",
    "SELECT b.year, b.first_name, b.num\n",
    "  FROM usa_baby_names as b\n",
    " INNER JOIN (\n",
    "    SELECT year, MAX(num) AS max_num\n",
    "      FROM usa_baby_names\n",
    "     WHERE sex = 'M'\n",
    "     GROUP BY year\n",
    " ) AS subquery\n",
    "    ON subquery.year = b.year\n",
    "       AND subquery.max_num = b.num\n",
    " ORDER BY year DESC\n",
    " LIMIT 10;"
   ]
  },
  {
   "cell_type": "markdown",
   "metadata": {
    "dc": {
     "key": "57"
    },
    "deletable": false,
    "editable": false,
    "run_control": {
     "frozen": true
    },
    "tags": [
     "context"
    ]
   },
   "source": [
    "## 8. The most years at number one\n",
    "<p>Noah and Liam have ruled the roost in the last few years, but if we scroll down in the results, it looks like Michael and Jacob have also spent a good number of years as the top name! Which name has been number one for the largest number of years? Let's use a common table expression to find out. </p>"
   ]
  },
  {
   "cell_type": "code",
   "execution_count": 10,
   "metadata": {
    "dc": {
     "key": "57"
    },
    "tags": [
     "sample_code"
    ]
   },
   "outputs": [
    {
     "name": "stdout",
     "output_type": "stream",
     "text": [
      "8 rows affected.\n"
     ]
    },
    {
     "data": {
      "text/html": [
       "<table>\n",
       "    <thead>\n",
       "        <tr>\n",
       "            <th>first_name</th>\n",
       "            <th>count_top_name</th>\n",
       "        </tr>\n",
       "    </thead>\n",
       "    <tbody>\n",
       "        <tr>\n",
       "            <td>Michael                                                         </td>\n",
       "            <td>44</td>\n",
       "        </tr>\n",
       "        <tr>\n",
       "            <td>Robert                                                          </td>\n",
       "            <td>17</td>\n",
       "        </tr>\n",
       "        <tr>\n",
       "            <td>Jacob                                                           </td>\n",
       "            <td>14</td>\n",
       "        </tr>\n",
       "        <tr>\n",
       "            <td>James                                                           </td>\n",
       "            <td>13</td>\n",
       "        </tr>\n",
       "        <tr>\n",
       "            <td>Liam                                                            </td>\n",
       "            <td>4</td>\n",
       "        </tr>\n",
       "        <tr>\n",
       "            <td>John                                                            </td>\n",
       "            <td>4</td>\n",
       "        </tr>\n",
       "        <tr>\n",
       "            <td>Noah                                                            </td>\n",
       "            <td>4</td>\n",
       "        </tr>\n",
       "        <tr>\n",
       "            <td>David                                                           </td>\n",
       "            <td>1</td>\n",
       "        </tr>\n",
       "    </tbody>\n",
       "</table>"
      ],
      "text/plain": [
       "[('Michael                                                         ', 44),\n",
       " ('Robert                                                          ', 17),\n",
       " ('Jacob                                                           ', 14),\n",
       " ('James                                                           ', 13),\n",
       " ('Liam                                                            ', 4),\n",
       " ('John                                                            ', 4),\n",
       " ('Noah                                                            ', 4),\n",
       " ('David                                                           ', 1)]"
      ]
     },
     "execution_count": 10,
     "metadata": {},
     "output_type": "execute_result"
    }
   ],
   "source": [
    "%%sql\n",
    "\n",
    "-- Select first_name and a count of years it was the top name in the last task; alias as count_top_name\n",
    "-- Use the code from the previous task as a common table expression\n",
    "-- Group by first_name and order by count_top_name descending\n",
    "\n",
    "WITH top_male_names AS (\n",
    "    SELECT b.year, b.first_name, b.num\n",
    "    FROM usa_baby_names AS b\n",
    "    INNER JOIN (\n",
    "        SELECT year, MAX(num) num\n",
    "        FROM usa_baby_names\n",
    "        WHERE sex = 'M'\n",
    "        GROUP BY year) AS subquery \n",
    "    ON subquery.year = b.year \n",
    "        AND subquery.num = b.num\n",
    "    ORDER BY YEAR DESC\n",
    "    )\n",
    "SELECT first_name, COUNT(first_name) as count_top_name\n",
    "FROM top_male_names\n",
    "GROUP BY first_name\n",
    "ORDER BY COUNT(first_name) DESC;"
   ]
  }
 ],
 "metadata": {
  "kernelspec": {
   "display_name": "Python 3 (ipykernel)",
   "language": "python",
   "name": "python3"
  },
  "language_info": {
   "codemirror_mode": {
    "name": "ipython",
    "version": 3
   },
   "file_extension": ".py",
   "mimetype": "text/x-python",
   "name": "python",
   "nbconvert_exporter": "python",
   "pygments_lexer": "ipython3",
   "version": "3.12.0"
  }
 },
 "nbformat": 4,
 "nbformat_minor": 4
}
